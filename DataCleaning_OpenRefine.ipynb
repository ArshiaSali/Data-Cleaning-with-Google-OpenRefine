{
  "nbformat": 4,
  "nbformat_minor": 0,
  "metadata": {
    "colab": {
      "name": "DataCleaning_OpenRefine.ipynb",
      "provenance": [],
      "authorship_tag": "ABX9TyM60EQhXG8bxKF677YGcWxM",
      "include_colab_link": true
    },
    "kernelspec": {
      "name": "python3",
      "display_name": "Python 3"
    },
    "language_info": {
      "name": "python"
    }
  },
  "cells": [
    {
      "cell_type": "markdown",
      "metadata": {
        "id": "view-in-github",
        "colab_type": "text"
      },
      "source": [
        "<a href=\"https://colab.research.google.com/github/ArshiaSali/Data-Cleaning-with-Google-OpenRefine/blob/main/DataCleaning_OpenRefine.ipynb\" target=\"_parent\"><img src=\"https://colab.research.google.com/assets/colab-badge.svg\" alt=\"Open In Colab\"/></a>"
      ]
    },
    {
      "cell_type": "markdown",
      "metadata": {
        "id": "p3Y3ZcwuS1yx"
      },
      "source": [
        "# **Data Cleaning Assignment - CMPE 255(Data Mining)**"
      ]
    },
    {
      "cell_type": "markdown",
      "metadata": {
        "id": "yRvWDK8_TJHH"
      },
      "source": [
        "**Topic** : Salary Prediction for Engineering Graduates \n",
        "\n",
        "**Dataset from Kaggle** : <a href=\"https://www.kaggle.com/manishkc06/engineering-graduate-salary-prediction\">Data</a>"
      ]
    },
    {
      "cell_type": "markdown",
      "metadata": {
        "id": "m4maQnOBTxoK"
      },
      "source": [
        "**Data Cleaning** \n",
        "* Perfomed using **Google OpenRefine** \n",
        "\n",
        "**Video Link** - <a href=\"https://drive.google.com/drive/folders/1LkpSM3pg2wUC1aybCmoqb9iHtU77l2Yr\">Data Cleaning with Google OpenRefine</a>\n",
        "\n",
        "**Steps Included**\n",
        "\n",
        "\n",
        "*   Faceting\n",
        "*   Clustering\n",
        "*   Deleting Duplicates\n",
        "*   Deleting Blanks\n",
        "*   Removing Outliers\n",
        "*   Dimenionality Reduction (With Domain Knowledge)\n",
        "\n"
      ]
    },
    {
      "cell_type": "markdown",
      "metadata": {
        "id": "YxBfmbA1WT3s"
      },
      "source": [
        "## Import Python Libraries "
      ]
    },
    {
      "cell_type": "code",
      "metadata": {
        "id": "FwlKVNl3EmCX"
      },
      "source": [
        "import numpy as np \n",
        "import pandas as pd \n",
        "import seaborn as sns\n",
        "import matplotlib.pyplot as plt"
      ],
      "execution_count": 1,
      "outputs": []
    },
    {
      "cell_type": "markdown",
      "metadata": {
        "id": "MHLvCJSbW2wa"
      },
      "source": [
        "Import the Cleaned Data "
      ]
    },
    {
      "cell_type": "code",
      "metadata": {
        "id": "fx3WhQllG3Lp"
      },
      "source": [
        "df = pd.read_csv('Salary_Prediction.csv')"
      ],
      "execution_count": 2,
      "outputs": []
    },
    {
      "cell_type": "code",
      "metadata": {
        "colab": {
          "base_uri": "https://localhost:8080/"
        },
        "id": "xhR6q9-HG99G",
        "outputId": "ce59062b-5636-4d3b-b9c8-9ba0e1d224e5"
      },
      "source": [
        "df.columns"
      ],
      "execution_count": 3,
      "outputs": [
        {
          "output_type": "execute_result",
          "data": {
            "text/plain": [
              "Index(['Gender', '10percentage', '12percentage', 'CollegeTier', 'Degree',\n",
              "       'Specialization', 'collegeGPA', 'English', 'Logical', 'Quant', 'Domain',\n",
              "       'ComputerProgramming', 'ElectronicsAndSemicon', 'ComputerScience',\n",
              "       'MechanicalEngg', 'ElectricalEngg', 'TelecomEngg', 'CivilEngg',\n",
              "       'conscientiousness', 'agreeableness', 'extraversion', 'nueroticism',\n",
              "       'openess_to_experience', 'Salary'],\n",
              "      dtype='object')"
            ]
          },
          "metadata": {},
          "execution_count": 3
        }
      ]
    },
    {
      "cell_type": "markdown",
      "metadata": {
        "id": "IPhE2W35XLb9"
      },
      "source": [
        "## Plot Gender based Distribution"
      ]
    },
    {
      "cell_type": "code",
      "metadata": {
        "colab": {
          "base_uri": "https://localhost:8080/",
          "height": 351
        },
        "id": "uxYDB4U0HOcR",
        "outputId": "93bf9824-41e1-4f7b-d206-dcc98a7a3638"
      },
      "source": [
        "sns.countplot(df.Gender,palette = 'inferno')"
      ],
      "execution_count": 3,
      "outputs": [
        {
          "output_type": "stream",
          "name": "stderr",
          "text": [
            "/usr/local/lib/python3.7/dist-packages/seaborn/_decorators.py:43: FutureWarning: Pass the following variable as a keyword arg: x. From version 0.12, the only valid positional argument will be `data`, and passing other arguments without an explicit keyword will result in an error or misinterpretation.\n",
            "  FutureWarning\n"
          ]
        },
        {
          "output_type": "execute_result",
          "data": {
            "text/plain": [
              "<matplotlib.axes._subplots.AxesSubplot at 0x7f5e062c8590>"
            ]
          },
          "metadata": {},
          "execution_count": 3
        },
        {
          "output_type": "display_data",
          "data": {
            "image/png": "[encoded data removed]",
            "text/plain": [
              "<Figure size 432x288 with 1 Axes>"
            ]
          },
          "metadata": {
            "needs_background": "light"
          }
        }
      ]
    },
    {
      "cell_type": "markdown",
      "metadata": {
        "id": "dTNPZtnAXbwn"
      },
      "source": [
        "## How does College GPA affect the Salary ?"
      ]
    },
    {
      "cell_type": "code",
      "metadata": {
        "colab": {
          "base_uri": "https://localhost:8080/",
          "height": 417
        },
        "id": "gG3dNDQ8Hq96",
        "outputId": "539da91d-7b1a-48bc-f97b-896acbb68f48"
      },
      "source": [
        "plt.figure(figsize = (10,5))\n",
        "sns.scatterplot(df.collegeGPA,df.Salary, hue = df.Degree,palette = 'inferno')"
      ],
      "execution_count": 4,
      "outputs": [
        {
          "output_type": "stream",
          "name": "stderr",
          "text": [
            "/usr/local/lib/python3.7/dist-packages/seaborn/_decorators.py:43: FutureWarning: Pass the following variables as keyword args: x, y. From version 0.12, the only valid positional argument will be `data`, and passing other arguments without an explicit keyword will result in an error or misinterpretation.\n",
            "  FutureWarning\n"
          ]
        },
        {
          "output_type": "execute_result",
          "data": {
            "text/plain": [
              "<matplotlib.axes._subplots.AxesSubplot at 0x7f5e059fdc10>"
            ]
          },
          "metadata": {},
          "execution_count": 4
        },
        {
          "output_type": "display_data",
          "data": {
            "image/png": "[encoded data removed]",
            "text/plain": [
              "<Figure size 720x360 with 1 Axes>"
            ]
          },
          "metadata": {
            "needs_background": "light"
          }
        }
      ]
    },
    {
      "cell_type": "markdown",
      "metadata": {
        "id": "g5BKxMApYcnQ"
      },
      "source": [
        "We can infer that College GPA doesn't have any significant effects in the Salary."
      ]
    },
    {
      "cell_type": "markdown",
      "metadata": {
        "id": "x27n7P60XmeZ"
      },
      "source": [
        "## Does Experience in Relevant Field influence Salary?"
      ]
    },
    {
      "cell_type": "code",
      "metadata": {
        "colab": {
          "base_uri": "https://localhost:8080/",
          "height": 418
        },
        "id": "Zym9JOsHHw5Z",
        "outputId": "52717441-078f-4515-87ef-51d1b5d6f980"
      },
      "source": [
        "plt.figure(figsize = (10,5))\n",
        "sns.scatterplot(df.openess_to_experience,df.Salary)"
      ],
      "execution_count": 5,
      "outputs": [
        {
          "output_type": "stream",
          "name": "stderr",
          "text": [
            "/usr/local/lib/python3.7/dist-packages/seaborn/_decorators.py:43: FutureWarning: Pass the following variables as keyword args: x, y. From version 0.12, the only valid positional argument will be `data`, and passing other arguments without an explicit keyword will result in an error or misinterpretation.\n",
            "  FutureWarning\n"
          ]
        },
        {
          "output_type": "execute_result",
          "data": {
            "text/plain": [
              "<matplotlib.axes._subplots.AxesSubplot at 0x7f5e04ac56d0>"
            ]
          },
          "metadata": {},
          "execution_count": 5
        },
        {
          "output_type": "display_data",
          "data": {
            "image/png": "[encoded data removed]",
            "text/plain": [
              "<Figure size 720x360 with 1 Axes>"
            ]
          },
          "metadata": {
            "needs_background": "light"
          }
        }
      ]
    },
    {
      "cell_type": "markdown",
      "metadata": {
        "id": "LCaZvflKYkTo"
      },
      "source": [
        "### **Inference** : Exposure to relevant experience do promote the chance of getting high Salaried Job."
      ]
    },
    {
      "cell_type": "code",
      "metadata": {
        "colab": {
          "base_uri": "https://localhost:8080/"
        },
        "id": "y0Czl61TH2KT",
        "outputId": "74251c6b-010f-429b-faf2-917a3c26e331"
      },
      "source": [
        "df.info()"
      ],
      "execution_count": 6,
      "outputs": [
        {
          "output_type": "stream",
          "name": "stdout",
          "text": [
            "<class 'pandas.core.frame.DataFrame'>\n",
            "RangeIndex: 2810 entries, 0 to 2809\n",
            "Data columns (total 23 columns):\n",
            " #   Column                 Non-Null Count  Dtype  \n",
            "---  ------                 --------------  -----  \n",
            " 0   Gender                 2810 non-null   object \n",
            " 1   10percentage           2810 non-null   float64\n",
            " 2   12percentage           2810 non-null   float64\n",
            " 3   Degree                 2810 non-null   object \n",
            " 4   Specialization         2810 non-null   object \n",
            " 5   collegeGPA             2810 non-null   float64\n",
            " 6   English                2810 non-null   int64  \n",
            " 7   Logical                2810 non-null   int64  \n",
            " 8   Quant                  2810 non-null   int64  \n",
            " 9   Domain                 2810 non-null   float64\n",
            " 10  ComputerProgramming    2810 non-null   int64  \n",
            " 11  ElectronicsAndSemicon  2810 non-null   int64  \n",
            " 12  ComputerScience        2810 non-null   int64  \n",
            " 13  MechanicalEngg         2810 non-null   int64  \n",
            " 14  ElectricalEngg         2810 non-null   int64  \n",
            " 15  TelecomEngg            2810 non-null   int64  \n",
            " 16  CivilEngg              2810 non-null   int64  \n",
            " 17  conscientiousness      2810 non-null   float64\n",
            " 18  agreeableness          2810 non-null   float64\n",
            " 19  extraversion           2810 non-null   float64\n",
            " 20  nueroticism            2810 non-null   float64\n",
            " 21  openess_to_experience  2810 non-null   float64\n",
            " 22  Salary                 2810 non-null   int64  \n",
            "dtypes: float64(9), int64(11), object(3)\n",
            "memory usage: 505.0+ KB\n"
          ]
        }
      ]
    },
    {
      "cell_type": "markdown",
      "metadata": {
        "id": "PYcWOLm3Xvid"
      },
      "source": [
        "Here we can see Gender, Degree and Specialization are of type Object. We need to encode before training the model."
      ]
    },
    {
      "cell_type": "code",
      "metadata": {
        "id": "F-yNjdkrH7aw"
      },
      "source": [
        "from sklearn.preprocessing import LabelEncoder\n",
        "le = LabelEncoder()\n",
        "df.Gender = le.fit_transform(df.Gender)\n",
        "df.Degree = le.fit_transform(df.Degree)\n",
        "df.Specialization = le.fit_transform(df.Specialization)"
      ],
      "execution_count": 7,
      "outputs": []
    },
    {
      "cell_type": "code",
      "metadata": {
        "colab": {
          "base_uri": "https://localhost:8080/",
          "height": 226
        },
        "id": "SIsSm1InH-RB",
        "outputId": "ee7d6865-bce1-499c-a278-ca55620cb306"
      },
      "source": [
        "df.head()"
      ],
      "execution_count": 8,
      "outputs": [
        {
          "output_type": "execute_result",
          "data": {
            "text/html": [
              "<div>\n",
              "<style scoped>\n",
              "    .dataframe tbody tr th:only-of-type {\n",
              "        vertical-align: middle;\n",
              "    }\n",
              "\n",
              "    .dataframe tbody tr th {\n",
              "        vertical-align: top;\n",
              "    }\n",
              "\n",
              "    .dataframe thead th {\n",
              "        text-align: right;\n",
              "    }\n",
              "</style>\n",
              "<table border=\"1\" class=\"dataframe\">\n",
              "  <thead>\n",
              "    <tr style=\"text-align: right;\">\n",
              "      <th></th>\n",
              "      <th>Gender</th>\n",
              "      <th>10percentage</th>\n",
              "      <th>12percentage</th>\n",
              "      <th>Degree</th>\n",
              "      <th>Specialization</th>\n",
              "      <th>collegeGPA</th>\n",
              "      <th>English</th>\n",
              "      <th>Logical</th>\n",
              "      <th>Quant</th>\n",
              "      <th>Domain</th>\n",
              "      <th>ComputerProgramming</th>\n",
              "      <th>ElectronicsAndSemicon</th>\n",
              "      <th>ComputerScience</th>\n",
              "      <th>MechanicalEngg</th>\n",
              "      <th>ElectricalEngg</th>\n",
              "      <th>TelecomEngg</th>\n",
              "      <th>CivilEngg</th>\n",
              "      <th>conscientiousness</th>\n",
              "      <th>agreeableness</th>\n",
              "      <th>extraversion</th>\n",
              "      <th>nueroticism</th>\n",
              "      <th>openess_to_experience</th>\n",
              "      <th>Salary</th>\n",
              "    </tr>\n",
              "  </thead>\n",
              "  <tbody>\n",
              "    <tr>\n",
              "      <th>0</th>\n",
              "      <td>0</td>\n",
              "      <td>87.80</td>\n",
              "      <td>84.00</td>\n",
              "      <td>0</td>\n",
              "      <td>10</td>\n",
              "      <td>73.82</td>\n",
              "      <td>650</td>\n",
              "      <td>665</td>\n",
              "      <td>810</td>\n",
              "      <td>0.694479</td>\n",
              "      <td>485</td>\n",
              "      <td>366</td>\n",
              "      <td>-1</td>\n",
              "      <td>-1</td>\n",
              "      <td>-1</td>\n",
              "      <td>-1</td>\n",
              "      <td>-1</td>\n",
              "      <td>-0.1590</td>\n",
              "      <td>0.3789</td>\n",
              "      <td>1.2396</td>\n",
              "      <td>0.14590</td>\n",
              "      <td>0.2889</td>\n",
              "      <td>445000</td>\n",
              "    </tr>\n",
              "    <tr>\n",
              "      <th>1</th>\n",
              "      <td>1</td>\n",
              "      <td>57.00</td>\n",
              "      <td>64.50</td>\n",
              "      <td>0</td>\n",
              "      <td>5</td>\n",
              "      <td>65.00</td>\n",
              "      <td>440</td>\n",
              "      <td>435</td>\n",
              "      <td>210</td>\n",
              "      <td>0.342315</td>\n",
              "      <td>365</td>\n",
              "      <td>-1</td>\n",
              "      <td>-1</td>\n",
              "      <td>-1</td>\n",
              "      <td>-1</td>\n",
              "      <td>-1</td>\n",
              "      <td>-1</td>\n",
              "      <td>1.1336</td>\n",
              "      <td>0.0459</td>\n",
              "      <td>1.2396</td>\n",
              "      <td>0.52620</td>\n",
              "      <td>-0.2859</td>\n",
              "      <td>110000</td>\n",
              "    </tr>\n",
              "    <tr>\n",
              "      <th>2</th>\n",
              "      <td>1</td>\n",
              "      <td>77.33</td>\n",
              "      <td>85.17</td>\n",
              "      <td>0</td>\n",
              "      <td>7</td>\n",
              "      <td>61.94</td>\n",
              "      <td>485</td>\n",
              "      <td>475</td>\n",
              "      <td>505</td>\n",
              "      <td>0.824666</td>\n",
              "      <td>-1</td>\n",
              "      <td>400</td>\n",
              "      <td>-1</td>\n",
              "      <td>-1</td>\n",
              "      <td>-1</td>\n",
              "      <td>260</td>\n",
              "      <td>-1</td>\n",
              "      <td>0.5100</td>\n",
              "      <td>-0.1232</td>\n",
              "      <td>1.5428</td>\n",
              "      <td>-0.29020</td>\n",
              "      <td>-0.2875</td>\n",
              "      <td>255000</td>\n",
              "    </tr>\n",
              "    <tr>\n",
              "      <th>3</th>\n",
              "      <td>1</td>\n",
              "      <td>84.30</td>\n",
              "      <td>86.00</td>\n",
              "      <td>0</td>\n",
              "      <td>5</td>\n",
              "      <td>80.40</td>\n",
              "      <td>675</td>\n",
              "      <td>620</td>\n",
              "      <td>635</td>\n",
              "      <td>0.990009</td>\n",
              "      <td>655</td>\n",
              "      <td>-1</td>\n",
              "      <td>-1</td>\n",
              "      <td>-1</td>\n",
              "      <td>-1</td>\n",
              "      <td>-1</td>\n",
              "      <td>-1</td>\n",
              "      <td>-0.4463</td>\n",
              "      <td>0.2124</td>\n",
              "      <td>0.3174</td>\n",
              "      <td>0.27270</td>\n",
              "      <td>0.4805</td>\n",
              "      <td>420000</td>\n",
              "    </tr>\n",
              "    <tr>\n",
              "      <th>4</th>\n",
              "      <td>0</td>\n",
              "      <td>82.00</td>\n",
              "      <td>75.00</td>\n",
              "      <td>0</td>\n",
              "      <td>1</td>\n",
              "      <td>64.30</td>\n",
              "      <td>575</td>\n",
              "      <td>495</td>\n",
              "      <td>365</td>\n",
              "      <td>0.278457</td>\n",
              "      <td>315</td>\n",
              "      <td>-1</td>\n",
              "      <td>-1</td>\n",
              "      <td>-1</td>\n",
              "      <td>-1</td>\n",
              "      <td>-1</td>\n",
              "      <td>-1</td>\n",
              "      <td>-1.4992</td>\n",
              "      <td>-0.7473</td>\n",
              "      <td>-1.0697</td>\n",
              "      <td>0.06223</td>\n",
              "      <td>0.1864</td>\n",
              "      <td>200000</td>\n",
              "    </tr>\n",
              "  </tbody>\n",
              "</table>\n",
              "</div>"
            ],
            "text/plain": [
              "   Gender  10percentage  ...  openess_to_experience  Salary\n",
              "0       0         87.80  ...                 0.2889  445000\n",
              "1       1         57.00  ...                -0.2859  110000\n",
              "2       1         77.33  ...                -0.2875  255000\n",
              "3       1         84.30  ...                 0.4805  420000\n",
              "4       0         82.00  ...                 0.1864  200000\n",
              "\n",
              "[5 rows x 23 columns]"
            ]
          },
          "metadata": {},
          "execution_count": 8
        }
      ]
    },
    {
      "cell_type": "markdown",
      "metadata": {
        "id": "XpIZR6tcYAZz"
      },
      "source": [
        "# Linear Regression to predict Salary"
      ]
    },
    {
      "cell_type": "code",
      "metadata": {
        "id": "bzW36qJtIhov"
      },
      "source": [
        "X = df.iloc[:, :-1].values\n",
        "y = df.iloc[:, -1].values"
      ],
      "execution_count": 9,
      "outputs": []
    },
    {
      "cell_type": "markdown",
      "metadata": {
        "id": "Tf_O4e9dYGMG"
      },
      "source": [
        "Splitting Training Data and Test Data"
      ]
    },
    {
      "cell_type": "code",
      "metadata": {
        "id": "EOHn-8i3IrpA"
      },
      "source": [
        "from sklearn.model_selection import train_test_split\n",
        "X_train, X_test, y_train, y_test = train_test_split(X, y, test_size = 0.2, random_state = 0)"
      ],
      "execution_count": 10,
      "outputs": []
    },
    {
      "cell_type": "markdown",
      "metadata": {
        "id": "fElOhvv_YLaG"
      },
      "source": [
        "Train the Model"
      ]
    },
    {
      "cell_type": "code",
      "metadata": {
        "colab": {
          "base_uri": "https://localhost:8080/"
        },
        "id": "jE3Tm1BzI4GS",
        "outputId": "ee34038f-52d5-42ae-94ba-ab8b2986e7ff"
      },
      "source": [
        "from sklearn.linear_model import LinearRegression\n",
        "regressor = LinearRegression()\n",
        "regressor.fit(X_train, y_train)"
      ],
      "execution_count": 11,
      "outputs": [
        {
          "output_type": "execute_result",
          "data": {
            "text/plain": [
              "LinearRegression(copy_X=True, fit_intercept=True, n_jobs=None, normalize=False)"
            ]
          },
          "metadata": {},
          "execution_count": 11
        }
      ]
    },
    {
      "cell_type": "markdown",
      "metadata": {
        "id": "LgKoL55-YO7e"
      },
      "source": [
        "Predict the Salary in the Test Data"
      ]
    },
    {
      "cell_type": "code",
      "metadata": {
        "colab": {
          "base_uri": "https://localhost:8080/"
        },
        "id": "CcANeZLZJEyN",
        "outputId": "5c325454-c03e-4fdd-d149-da27fac58769"
      },
      "source": [
        "y_pred = regressor.predict(X_test)\n",
        "np.set_printoptions(precision=2)\n",
        "print(np.concatenate((y_pred.reshape(len(y_pred),1), y_test.reshape(len(y_test),1)),1))"
      ],
      "execution_count": 12,
      "outputs": [
        {
          "output_type": "stream",
          "name": "stdout",
          "text": [
            "[[269581.34 345000.  ]\n",
            " [316759.81  60000.  ]\n",
            " [380415.59 300000.  ]\n",
            " ...\n",
            " [174852.34 110000.  ]\n",
            " [282364.04 500000.  ]\n",
            " [301589.83 350000.  ]]\n"
          ]
        }
      ]
    },
    {
      "cell_type": "markdown",
      "metadata": {
        "id": "0kswvbs8Y27L"
      },
      "source": [
        "**Inference :**\n",
        "OpenRefine gives us flexibility in cleaning the datasets with the facets and the Clustering functionalities that they have. Removing Outliers from each column is easy compared to the Python Code that we need to write. \n",
        "\n",
        "Splitting the Dataset in a 80-20 ratio for training and testing allows us to train our Linear Regression model and predict the results of our Test Dataset.\n",
        "\n",
        "From the further Analysis that I did, I'm able to infer that Gender, School GPA, College GPA etc. doesnt have any significant effects on the Individual's Salary. But exposure to Relevant Work Experience highly influence the Salary of an Individual."
      ]
    }
  ]
}